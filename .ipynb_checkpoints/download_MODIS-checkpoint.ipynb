{
 "cells": [
  {
   "cell_type": "markdown",
   "id": "meaning-sympathy",
   "metadata": {},
   "source": [
    "# pyModis notebook"
   ]
  },
  {
   "cell_type": "markdown",
   "id": "arabic-sleeping",
   "metadata": {},
   "source": [
    "## Download data"
   ]
  },
  {
   "cell_type": "markdown",
   "id": "therapeutic-ultimate",
   "metadata": {},
   "source": [
    "First we have to import pymodis library and set all the needed variables"
   ]
  },
  {
   "cell_type": "code",
   "execution_count": 31,
   "id": "composite-facility",
   "metadata": {},
   "outputs": [],
   "source": [
    "import os\n",
    "import glob\n",
    "from IPython.core.display import Image\n",
    "from pymodis import downmodis\n",
    "import matplotlib.pyplot as plt\n",
    "from osgeo import gdal"
   ]
  },
  {
   "cell_type": "code",
   "execution_count": null,
   "id": "potential-password",
   "metadata": {},
   "outputs": [],
   "source": []
  },
  {
   "cell_type": "code",
   "execution_count": 46,
   "id": "alleged-domestic",
   "metadata": {},
   "outputs": [],
   "source": [
    "# destination foldert\n",
    "dest = \"/tmp\"\n",
    "# tiles to download\n",
    "tiles = \"h18v04,h19v04\"\n",
    "# starting day\n",
    "day = \"2014-08-14\"\n",
    "# number of day to download\n",
    "delta = 1"
   ]
  },
  {
   "cell_type": "code",
   "execution_count": 47,
   "id": "chronic-forward",
   "metadata": {},
   "outputs": [],
   "source": [
    "modisDown = downmodis.downModis(destinationFolder=dest, tiles=tiles, today=day, delta=delta)"
   ]
  },
  {
   "cell_type": "code",
   "execution_count": 45,
   "id": "manual-pleasure",
   "metadata": {},
   "outputs": [],
   "source": [
    "modisDown.connect()"
   ]
  },
  {
   "cell_type": "code",
   "execution_count": 35,
   "id": "separate-algeria",
   "metadata": {},
   "outputs": [],
   "source": [
    "modisDown.downloadsAllDay()"
   ]
  },
  {
   "cell_type": "code",
   "execution_count": 36,
   "id": "passing-ghana",
   "metadata": {},
   "outputs": [
    {
     "name": "stdout",
     "output_type": "stream",
     "text": [
      "['/tmp\\\\MOD11A1.A2014226.h18v04.006.2016206155244.hdf', '/tmp\\\\MOD11A1.A2014226.h19v04.006.2016206155246.hdf']\n"
     ]
    }
   ],
   "source": [
    "# create the list of files to use\n",
    "files = glob.glob(os.path.join(dest, 'MOD11A1.A2014*.hdf'))\n",
    "print (files)"
   ]
  },
  {
   "cell_type": "code",
   "execution_count": 41,
   "id": "whole-galaxy",
   "metadata": {},
   "outputs": [],
   "source": [
    "\n",
    "hdf_ds = gdal.Open('/tmp\\\\MOD11A1.A2014226.h18v04.006.2016206155244.hdf')\n",
    "\n",
    "\n",
    "data = hdf_ds.ReadAsArray()\n",
    "\n",
    "data"
   ]
  },
  {
   "cell_type": "code",
   "execution_count": 42,
   "id": "employed-prototype",
   "metadata": {},
   "outputs": [
    {
     "ename": "TypeError",
     "evalue": "'NoneType' object is not subscriptable",
     "output_type": "error",
     "traceback": [
      "\u001b[1;31m---------------------------------------------------------------------------\u001b[0m",
      "\u001b[1;31mTypeError\u001b[0m                                 Traceback (most recent call last)",
      "\u001b[1;32m<ipython-input-42-ce42a9f361bc>\u001b[0m in \u001b[0;36m<module>\u001b[1;34m\u001b[0m\n\u001b[0;32m      1\u001b[0m \u001b[0mfig\u001b[0m\u001b[1;33m,\u001b[0m \u001b[0max\u001b[0m \u001b[1;33m=\u001b[0m \u001b[0mplt\u001b[0m\u001b[1;33m.\u001b[0m\u001b[0msubplots\u001b[0m\u001b[1;33m(\u001b[0m\u001b[0mfigsize\u001b[0m\u001b[1;33m=\u001b[0m\u001b[1;33m(\u001b[0m\u001b[1;36m6\u001b[0m\u001b[1;33m,\u001b[0m\u001b[1;36m6\u001b[0m\u001b[1;33m)\u001b[0m\u001b[1;33m)\u001b[0m\u001b[1;33m\u001b[0m\u001b[1;33m\u001b[0m\u001b[0m\n\u001b[0;32m      2\u001b[0m \u001b[1;33m\u001b[0m\u001b[0m\n\u001b[1;32m----> 3\u001b[1;33m \u001b[0max\u001b[0m\u001b[1;33m.\u001b[0m\u001b[0mimshow\u001b[0m\u001b[1;33m(\u001b[0m\u001b[0mdata\u001b[0m\u001b[1;33m[\u001b[0m\u001b[1;36m0\u001b[0m\u001b[1;33m,\u001b[0m\u001b[1;33m:\u001b[0m\u001b[1;33m,\u001b[0m\u001b[1;33m:\u001b[0m\u001b[1;33m]\u001b[0m\u001b[1;33m,\u001b[0m \u001b[0mcmap\u001b[0m\u001b[1;33m=\u001b[0m\u001b[0mplt\u001b[0m\u001b[1;33m.\u001b[0m\u001b[0mcm\u001b[0m\u001b[1;33m.\u001b[0m\u001b[0mGreys\u001b[0m\u001b[1;33m,\u001b[0m \u001b[0mvmin\u001b[0m\u001b[1;33m=\u001b[0m\u001b[1;36m1000\u001b[0m\u001b[1;33m,\u001b[0m \u001b[0mvmax\u001b[0m\u001b[1;33m=\u001b[0m\u001b[1;36m6000\u001b[0m\u001b[1;33m)\u001b[0m\u001b[1;33m\u001b[0m\u001b[1;33m\u001b[0m\u001b[0m\n\u001b[0m",
      "\u001b[1;31mTypeError\u001b[0m: 'NoneType' object is not subscriptable"
     ]
    },
    {
     "data": {
      "image/png": "[encoded data removed]",
      "text/plain": [
       "<Figure size 432x432 with 1 Axes>"
      ]
     },
     "metadata": {
      "needs_background": "light"
     },
     "output_type": "display_data"
    }
   ],
   "source": [
    "fig, ax = plt.subplots(figsize=(6,6))\n",
    "\n",
    "ax.imshow(data[0,:,:], cmap=plt.cm.Greys, vmin=1000, vmax=6000)"
   ]
  },
  {
   "cell_type": "code",
   "execution_count": null,
   "id": "stuffed-elite",
   "metadata": {},
   "outputs": [],
   "source": []
  },
  {
   "cell_type": "code",
   "execution_count": null,
   "id": "geological-going",
   "metadata": {},
   "outputs": [],
   "source": []
  },
  {
   "cell_type": "code",
   "execution_count": null,
   "id": "separated-master",
   "metadata": {},
   "outputs": [],
   "source": []
  },
  {
   "cell_type": "code",
   "execution_count": null,
   "id": "trained-spray",
   "metadata": {},
   "outputs": [],
   "source": []
  }
 ],
 "metadata": {
  "kernelspec": {
   "display_name": "Python 3",
   "language": "python",
   "name": "python3"
  },
  "language_info": {
   "codemirror_mode": {
    "name": "ipython",
    "version": 3
   },
   "file_extension": ".py",
   "mimetype": "text/x-python",
   "name": "python",
   "nbconvert_exporter": "python",
   "pygments_lexer": "ipython3",
   "version": "3.8.8"
  }
 },
 "nbformat": 4,
 "nbformat_minor": 5
}
