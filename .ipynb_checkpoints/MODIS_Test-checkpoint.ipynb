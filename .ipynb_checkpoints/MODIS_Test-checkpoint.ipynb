{
 "cells": [
  {
   "cell_type": "code",
   "execution_count": 82,
   "metadata": {},
   "outputs": [
    {
     "ename": "ModuleNotFoundError",
     "evalue": "No module named 'h5py'",
     "output_type": "error",
     "traceback": [
      "\u001b[1;31m---------------------------------------------------------------------------\u001b[0m",
      "\u001b[1;31mModuleNotFoundError\u001b[0m                       Traceback (most recent call last)",
      "\u001b[1;32m<ipython-input-82-4e86002c952b>\u001b[0m in \u001b[0;36m<module>\u001b[1;34m\u001b[0m\n\u001b[0;32m     16\u001b[0m \u001b[1;32mimport\u001b[0m \u001b[0mseaborn\u001b[0m \u001b[1;32mas\u001b[0m \u001b[0msns\u001b[0m\u001b[1;33m\u001b[0m\u001b[1;33m\u001b[0m\u001b[0m\n\u001b[0;32m     17\u001b[0m \u001b[1;32mfrom\u001b[0m \u001b[0mmpl_toolkits\u001b[0m\u001b[1;33m.\u001b[0m\u001b[0mbasemap\u001b[0m \u001b[1;32mimport\u001b[0m \u001b[0mBasemap\u001b[0m\u001b[1;33m\u001b[0m\u001b[1;33m\u001b[0m\u001b[0m\n\u001b[1;32m---> 18\u001b[1;33m \u001b[1;32mimport\u001b[0m \u001b[0mh5py\u001b[0m\u001b[1;33m\u001b[0m\u001b[1;33m\u001b[0m\u001b[0m\n\u001b[0m\u001b[0;32m     19\u001b[0m \u001b[1;33m\u001b[0m\u001b[0m\n\u001b[0;32m     20\u001b[0m \u001b[1;33m\u001b[0m\u001b[0m\n",
      "\u001b[1;31mModuleNotFoundError\u001b[0m: No module named 'h5py'"
     ]
    }
   ],
   "source": [
    "import rasterio\n",
    "import pandas as pd\n",
    "import tables\n",
    "import geopandas as gpd\n",
    "import xarray as xr\n",
    "import os\n",
    "import matplotlib.pyplot as plt\n",
    "from osgeo import gdal\n",
    "import numpy as np\n",
    "import rioxarray as rxr\n",
    "from shapely.geometry import mapping\n",
    "import glob\n",
    "from datetime import datetime\n",
    "from pyproj import Transformer\n",
    "from rasterio.plot import show\n",
    "import seaborn as sns\n",
    "from mpl_toolkits.basemap import Basemap\n",
    "import h5py\n",
    "\n",
    "\n",
    "\n",
    "sns.set()\n",
    "sns.color_palette(\"viridis\", as_cmap=True)\n"
   ]
  },
  {
   "cell_type": "code",
   "execution_count": 2,
   "metadata": {},
   "outputs": [],
   "source": [
    "def raster_clip(shape_path, raster_path):\n",
    "    current_directory = os.getcwd()\n",
    "    list_rastr = glob.glob(raster_path + '\\*.hdf')\n",
    "    #read the shapefile\n",
    "    basin_shape = gpd.read_file(shape_path).to_crs('EPSG:4326')\n",
    "    #opens the raster file (.nc)\n",
    "    daf = xr.open_dataarray(list_rastr[0])\n",
    "    daf.rio.set_spatial_dims(x_dim=\"longitude\", y_dim=\"latitude\", inplace=True)\n",
    "    daf.rio.write_crs(\"EPSG:4326\", inplace=True)\n",
    "    daf = daf[0,:,:]\n",
    "    #clips the raster with shapefile\n",
    "    clipped = daf.rio.clip(basin_shape.geometry.apply(mapping), basin_shape.crs, drop=True)"
   ]
  },
  {
   "cell_type": "code",
   "execution_count": 69,
   "metadata": {},
   "outputs": [
    {
     "data": {
      "text/plain": [
       "['MYD10A2.A2019361.h18v04.006.2020005202211.hdf',\n",
       " 'MYD10A2.A2020001.h18v04.006.2020010223928.hdf',\n",
       " 'MYD10A2.A2020009.h18v04.006.2020018045520.hdf',\n",
       " 'MYD10A2.A2020017.h18v04.006.2020027233130.hdf',\n",
       " 'MYD10A2.A2020025.h18v04.006.2020034033026.hdf',\n",
       " 'MYD10A2.A2020033.h18v04.006.2020042211703.hdf',\n",
       " 'MYD10A2.A2020041.h18v04.006.2020050064348.hdf',\n",
       " 'MYD10A2.A2020049.h18v04.006.2020058041923.hdf',\n",
       " 'MYD10A2.A2020057.h18v04.006.2020066045621.hdf',\n",
       " 'MYD10A2.A2020065.h18v04.006.2020076232540.hdf',\n",
       " 'MYD10A2.A2020073.h18v04.006.2020082044153.hdf',\n",
       " 'MYD10A2.A2020081.h18v04.006.2020090221037.hdf',\n",
       " 'MYD10A2.A2020089.h18v04.006.2020100170619.hdf',\n",
       " 'MYD10A2.A2020097.h18v04.006.2020106043904.hdf',\n",
       " 'MYD10A2.A2020105.h18v04.006.2020114045350.hdf',\n",
       " 'MYD10A2.A2020113.h18v04.006.2020122034714.hdf',\n",
       " 'MYD10A2.A2020121.h18v04.006.2020130040421.hdf',\n",
       " 'MYD10A2.A2020129.h18v04.006.2020139104536.hdf',\n",
       " 'MYD10A2.A2020137.h18v04.006.2020148034116.hdf',\n",
       " 'MYD10A2.A2020145.h18v04.006.2020154041310.hdf',\n",
       " 'MYD10A2.A2020153.h18v04.006.2020162042901.hdf',\n",
       " 'MYD10A2.A2020161.h18v04.006.2020170061634.hdf',\n",
       " 'MYD10A2.A2020169.h18v04.006.2020178052628.hdf',\n",
       " 'MYD10A2.A2020177.h18v04.006.2020189031340.hdf']"
      ]
     },
     "execution_count": 69,
     "metadata": {},
     "output_type": "execute_result"
    }
   ],
   "source": [
    "def list_hdf_files(directory, extension):\n",
    "    return (f for f in os.listdir(directory) if f.endswith('.' + extension))\n",
    "\n",
    "list_files = list(list_hdf_files(\"D:\\\\MODIS_Snow\\\\Modis_Images\\\\\", \"hdf\"))\n",
    "\n",
    "list_files"
   ]
  },
  {
   "cell_type": "code",
   "execution_count": 66,
   "metadata": {},
   "outputs": [
    {
     "data": {
      "image/png": "[encoded data removed]",
      "text/plain": [
       "<Figure size 432x432 with 1 Axes>"
      ]
     },
     "metadata": {},
     "output_type": "display_data"
    },
    {
     "data": {
      "text/plain": [
       "<Projected CRS: PROJCS[\"ETRS89_ETRS_LAEA\",GEOGCS[\"ETRS89\",DATUM[\"E ...>\n",
       "Name: ETRS89_ETRS_LAEA\n",
       "Axis Info [cartesian]:\n",
       "- [east]: Easting (metre)\n",
       "- [north]: Northing (metre)\n",
       "Area of Use:\n",
       "- undefined\n",
       "Coordinate Operation:\n",
       "- name: unnamed\n",
       "- method: Lambert Azimuthal Equal Area\n",
       "Datum: European Terrestrial Reference System 1989\n",
       "- Ellipsoid: GRS 1980\n",
       "- Prime Meridian: Greenwich"
      ]
     },
     "execution_count": 66,
     "metadata": {},
     "output_type": "execute_result"
    }
   ],
   "source": [
    "shape_file_name = os.path.join(\"Basin_Shape\", \"Isel_Basin.shp\")\n",
    "\n",
    "crop_shape = gpd.read_file(shape_file_name)\n",
    "\n",
    "fig, ax = plt.subplots(figsize=(6, 6))\n",
    "\n",
    "crop_shape.plot(ax=ax)\n",
    "\n",
    "ax.set_title(\"Shapefile Crop Extent\",\n",
    "             fontsize=16)\n",
    "plt.show()\n",
    "\n",
    "crop_shape.crs"
   ]
  },
  {
   "cell_type": "code",
   "execution_count": 89,
   "metadata": {
    "scrolled": false
   },
   "outputs": [
    {
     "data": {
      "text/plain": [
       "array([[ 39,  39,  39, ...,  25,  25,  25],\n",
       "       [ 39,  39,  39, ...,  25,  25,  25],\n",
       "       [ 39,  39,  39, ..., 200,  25,  25],\n",
       "       ...,\n",
       "       [ 25,  25,  25, ...,  39,  39,  39],\n",
       "       [ 25,  25,  25, ...,  39,  39,  39],\n",
       "       [ 25,  25,  25, ...,  39,  39,  39]], dtype=uint8)"
      ]
     },
     "execution_count": 89,
     "metadata": {},
     "output_type": "execute_result"
    }
   ],
   "source": [
    "raster_file_name = os.path.join(\"Modis_Images\", list_files[0])\n",
    "\n",
    "g = gdal.Open(raster_file_name)\n",
    "\n",
    "subdatasets = g.GetSubDatasets()\n",
    "\n",
    "mysubdataset_name = subdatasets[0][0]\n",
    "\n",
    "snow_data = gdal.Open(mysubdataset_name, gdal.GA_ReadOnly).ReadAsArray()\n",
    "\n"
   ]
  },
  {
   "cell_type": "code",
   "execution_count": 5,
   "metadata": {
    "scrolled": true
   },
   "outputs": [
    {
     "ename": "AttributeError",
     "evalue": "'NoneType' object has no attribute 'GetSubDatasets'",
     "output_type": "error",
     "traceback": [
      "\u001b[1;31m---------------------------------------------------------------------------\u001b[0m",
      "\u001b[1;31mAttributeError\u001b[0m                            Traceback (most recent call last)",
      "\u001b[1;32m<ipython-input-5-d831755c15c0>\u001b[0m in \u001b[0;36m<module>\u001b[1;34m\u001b[0m\n\u001b[0;32m      3\u001b[0m \u001b[0mg\u001b[0m \u001b[1;33m=\u001b[0m \u001b[0mgdal\u001b[0m\u001b[1;33m.\u001b[0m\u001b[0mOpen\u001b[0m\u001b[1;33m(\u001b[0m\u001b[0mfile_name\u001b[0m\u001b[1;33m)\u001b[0m\u001b[1;33m\u001b[0m\u001b[1;33m\u001b[0m\u001b[0m\n\u001b[0;32m      4\u001b[0m \u001b[1;33m\u001b[0m\u001b[0m\n\u001b[1;32m----> 5\u001b[1;33m \u001b[0msubdatasets\u001b[0m \u001b[1;33m=\u001b[0m \u001b[0mg\u001b[0m\u001b[1;33m.\u001b[0m\u001b[0mGetSubDatasets\u001b[0m\u001b[1;33m(\u001b[0m\u001b[1;33m)\u001b[0m\u001b[1;33m\u001b[0m\u001b[1;33m\u001b[0m\u001b[0m\n\u001b[0m\u001b[0;32m      6\u001b[0m \u001b[1;33m\u001b[0m\u001b[0m\n\u001b[0;32m      7\u001b[0m \u001b[0mmysubdataset_name\u001b[0m \u001b[1;33m=\u001b[0m \u001b[0msubdatasets\u001b[0m\u001b[1;33m[\u001b[0m\u001b[1;36m0\u001b[0m\u001b[1;33m]\u001b[0m\u001b[1;33m[\u001b[0m\u001b[1;36m0\u001b[0m\u001b[1;33m]\u001b[0m\u001b[1;33m\u001b[0m\u001b[1;33m\u001b[0m\u001b[0m\n",
      "\u001b[1;31mAttributeError\u001b[0m: 'NoneType' object has no attribute 'GetSubDatasets'"
     ]
    }
   ],
   "source": [
    "file_name = list_files[0]\n",
    "\n",
    "g = gdal.Open(file_name)\n",
    "\n",
    "subdatasets = g.GetSubDatasets()\n",
    "\n",
    "mysubdataset_name = subdatasets[0][0]\n",
    "\n",
    "\n",
    "\n",
    "snow_data = gdal.Open(mysubdataset_name, gdal.GA_ReadOnly).ReadAsArray()\n",
    "\n",
    "print (type(snow_data))\n",
    "\n",
    "\n",
    "\n",
    "\n",
    "\n",
    "print (np.unique(snow_data))\n",
    "snow_data[np.where(snow_data == 200)] = 1\n",
    "snow_data[np.where(snow_data == 25)] = 2\n",
    "snow_data[np.where((snow_data == 37) | (snow_data == 39))] = 3\n",
    "snow_data[np.where(snow_data == 50)] = 4\n",
    "snow_data[np.where(snow_data == 100)] = 5\n",
    "print (np.unique(snow_data))\n",
    "\n",
    "\n",
    "fig, ax = plt.subplots(figsize=(15,10))\n",
    "plt.imshow(snow_data)\n",
    "plt.colorbar()"
   ]
  },
  {
   "cell_type": "markdown",
   "metadata": {},
   "source": [
    "### Rio Xaraay clipping\n"
   ]
  },
  {
   "cell_type": "code",
   "execution_count": 249,
   "metadata": {},
   "outputs": [
    {
     "name": "stdout",
     "output_type": "stream",
     "text": [
      "<class 'list'>\n"
     ]
    }
   ],
   "source": [
    "hdf_raster_folder = \"D:\\MODIS_Snow\\Modis_hdf\\\\\"\n",
    "shape_file = \"D:\\MODIS_Snow\\Basin_Shape\\Isel_Basin.shp\"\n",
    "\n",
    "rasters = [ras for ras in os.listdir(hdf_raster_folder) if ras.endswith(\".hdf\")]\n",
    "\n",
    "def hdf_clip(raster_folder, raster_name, shape_file):\n",
    "    xds = rioxarray.open_rasterio(raster_folder + raster_name, masked=True, chunks=True)\n",
    "\n",
    "    shape = gpd.read_file(shape_file, crs=\"epsg:4326\")\n",
    "\n",
    "    clipped = xds.rio.clip(shape.geometry.apply(mapping), shape.crs, drop=True)\n",
    "    \n",
    "    day = str(raster_name[13:16])+ \".\" + str(raster_name[9:13])\n",
    "\n",
    "\n",
    "    return clipped.Maximum_Snow_Extent.values\n",
    "          \n",
    "\n",
    "    \n",
    "#hdf_clip(hdf_raster_folder, rasters[1:4], shape_file)\n",
    "\n",
    "clipps = [hdf_clip(hdf_raster_folder, raster, shape_file) for raster in rasters]\n",
    "\n",
    "print (type(clipps))"
   ]
  },
  {
   "cell_type": "code",
   "execution_count": 251,
   "metadata": {
    "scrolled": true
   },
   "outputs": [
    {
     "name": "stdout",
     "output_type": "stream",
     "text": [
      "(1, 82, 114)\n",
      "[array([[[nan, nan, nan, ..., nan, nan, nan],\n",
      "        [nan, nan, nan, ..., nan, nan, nan],\n",
      "        [nan, nan, nan, ..., nan, nan, nan],\n",
      "        ...,\n",
      "        [nan, nan, nan, ..., nan, nan, nan],\n",
      "        [nan, nan, nan, ..., nan, nan, nan],\n",
      "        [nan, nan, nan, ..., nan, nan, nan]]]), array([[[nan, nan, nan, ..., nan, nan, nan],\n",
      "        [nan, nan, nan, ..., nan, nan, nan],\n",
      "        [nan, nan, nan, ..., nan, nan, nan],\n",
      "        ...,\n",
      "        [nan, nan, nan, ..., nan, nan, nan],\n",
      "        [nan, nan, nan, ..., nan, nan, nan],\n",
      "        [nan, nan, nan, ..., nan, nan, nan]]]), array([[[nan, nan, nan, ..., nan, nan, nan],\n",
      "        [nan, nan, nan, ..., nan, nan, nan],\n",
      "        [nan, nan, nan, ..., nan, nan, nan],\n",
      "        ...,\n",
      "        [nan, nan, nan, ..., nan, nan, nan],\n",
      "        [nan, nan, nan, ..., nan, nan, nan],\n",
      "        [nan, nan, nan, ..., nan, nan, nan]]]), array([[[nan, nan, nan, ..., nan, nan, nan],\n",
      "        [nan, nan, nan, ..., nan, nan, nan],\n",
      "        [nan, nan, nan, ..., nan, nan, nan],\n",
      "        ...,\n",
      "        [nan, nan, nan, ..., nan, nan, nan],\n",
      "        [nan, nan, nan, ..., nan, nan, nan],\n",
      "        [nan, nan, nan, ..., nan, nan, nan]]]), array([[[nan, nan, nan, ..., nan, nan, nan],\n",
      "        [nan, nan, nan, ..., nan, nan, nan],\n",
      "        [nan, nan, nan, ..., nan, nan, nan],\n",
      "        ...,\n",
      "        [nan, nan, nan, ..., nan, nan, nan],\n",
      "        [nan, nan, nan, ..., nan, nan, nan],\n",
      "        [nan, nan, nan, ..., nan, nan, nan]]]), array([[[nan, nan, nan, ..., nan, nan, nan],\n",
      "        [nan, nan, nan, ..., nan, nan, nan],\n",
      "        [nan, nan, nan, ..., nan, nan, nan],\n",
      "        ...,\n",
      "        [nan, nan, nan, ..., nan, nan, nan],\n",
      "        [nan, nan, nan, ..., nan, nan, nan],\n",
      "        [nan, nan, nan, ..., nan, nan, nan]]]), array([[[nan, nan, nan, ..., nan, nan, nan],\n",
      "        [nan, nan, nan, ..., nan, nan, nan],\n",
      "        [nan, nan, nan, ..., nan, nan, nan],\n",
      "        ...,\n",
      "        [nan, nan, nan, ..., nan, nan, nan],\n",
      "        [nan, nan, nan, ..., nan, nan, nan],\n",
      "        [nan, nan, nan, ..., nan, nan, nan]]]), array([[[nan, nan, nan, ..., nan, nan, nan],\n",
      "        [nan, nan, nan, ..., nan, nan, nan],\n",
      "        [nan, nan, nan, ..., nan, nan, nan],\n",
      "        ...,\n",
      "        [nan, nan, nan, ..., nan, nan, nan],\n",
      "        [nan, nan, nan, ..., nan, nan, nan],\n",
      "        [nan, nan, nan, ..., nan, nan, nan]]]), array([[[nan, nan, nan, ..., nan, nan, nan],\n",
      "        [nan, nan, nan, ..., nan, nan, nan],\n",
      "        [nan, nan, nan, ..., nan, nan, nan],\n",
      "        ...,\n",
      "        [nan, nan, nan, ..., nan, nan, nan],\n",
      "        [nan, nan, nan, ..., nan, nan, nan],\n",
      "        [nan, nan, nan, ..., nan, nan, nan]]]), array([[[nan, nan, nan, ..., nan, nan, nan],\n",
      "        [nan, nan, nan, ..., nan, nan, nan],\n",
      "        [nan, nan, nan, ..., nan, nan, nan],\n",
      "        ...,\n",
      "        [nan, nan, nan, ..., nan, nan, nan],\n",
      "        [nan, nan, nan, ..., nan, nan, nan],\n",
      "        [nan, nan, nan, ..., nan, nan, nan]]]), array([[[nan, nan, nan, ..., nan, nan, nan],\n",
      "        [nan, nan, nan, ..., nan, nan, nan],\n",
      "        [nan, nan, nan, ..., nan, nan, nan],\n",
      "        ...,\n",
      "        [nan, nan, nan, ..., nan, nan, nan],\n",
      "        [nan, nan, nan, ..., nan, nan, nan],\n",
      "        [nan, nan, nan, ..., nan, nan, nan]]]), array([[[nan, nan, nan, ..., nan, nan, nan],\n",
      "        [nan, nan, nan, ..., nan, nan, nan],\n",
      "        [nan, nan, nan, ..., nan, nan, nan],\n",
      "        ...,\n",
      "        [nan, nan, nan, ..., nan, nan, nan],\n",
      "        [nan, nan, nan, ..., nan, nan, nan],\n",
      "        [nan, nan, nan, ..., nan, nan, nan]]]), array([[[nan, nan, nan, ..., nan, nan, nan],\n",
      "        [nan, nan, nan, ..., nan, nan, nan],\n",
      "        [nan, nan, nan, ..., nan, nan, nan],\n",
      "        ...,\n",
      "        [nan, nan, nan, ..., nan, nan, nan],\n",
      "        [nan, nan, nan, ..., nan, nan, nan],\n",
      "        [nan, nan, nan, ..., nan, nan, nan]]]), array([[[nan, nan, nan, ..., nan, nan, nan],\n",
      "        [nan, nan, nan, ..., nan, nan, nan],\n",
      "        [nan, nan, nan, ..., nan, nan, nan],\n",
      "        ...,\n",
      "        [nan, nan, nan, ..., nan, nan, nan],\n",
      "        [nan, nan, nan, ..., nan, nan, nan],\n",
      "        [nan, nan, nan, ..., nan, nan, nan]]]), array([[[nan, nan, nan, ..., nan, nan, nan],\n",
      "        [nan, nan, nan, ..., nan, nan, nan],\n",
      "        [nan, nan, nan, ..., nan, nan, nan],\n",
      "        ...,\n",
      "        [nan, nan, nan, ..., nan, nan, nan],\n",
      "        [nan, nan, nan, ..., nan, nan, nan],\n",
      "        [nan, nan, nan, ..., nan, nan, nan]]]), array([[[nan, nan, nan, ..., nan, nan, nan],\n",
      "        [nan, nan, nan, ..., nan, nan, nan],\n",
      "        [nan, nan, nan, ..., nan, nan, nan],\n",
      "        ...,\n",
      "        [nan, nan, nan, ..., nan, nan, nan],\n",
      "        [nan, nan, nan, ..., nan, nan, nan],\n",
      "        [nan, nan, nan, ..., nan, nan, nan]]]), array([[[nan, nan, nan, ..., nan, nan, nan],\n",
      "        [nan, nan, nan, ..., nan, nan, nan],\n",
      "        [nan, nan, nan, ..., nan, nan, nan],\n",
      "        ...,\n",
      "        [nan, nan, nan, ..., nan, nan, nan],\n",
      "        [nan, nan, nan, ..., nan, nan, nan],\n",
      "        [nan, nan, nan, ..., nan, nan, nan]]]), array([[[nan, nan, nan, ..., nan, nan, nan],\n",
      "        [nan, nan, nan, ..., nan, nan, nan],\n",
      "        [nan, nan, nan, ..., nan, nan, nan],\n",
      "        ...,\n",
      "        [nan, nan, nan, ..., nan, nan, nan],\n",
      "        [nan, nan, nan, ..., nan, nan, nan],\n",
      "        [nan, nan, nan, ..., nan, nan, nan]]]), array([[[nan, nan, nan, ..., nan, nan, nan],\n",
      "        [nan, nan, nan, ..., nan, nan, nan],\n",
      "        [nan, nan, nan, ..., nan, nan, nan],\n",
      "        ...,\n",
      "        [nan, nan, nan, ..., nan, nan, nan],\n",
      "        [nan, nan, nan, ..., nan, nan, nan],\n",
      "        [nan, nan, nan, ..., nan, nan, nan]]]), array([[[nan, nan, nan, ..., nan, nan, nan],\n",
      "        [nan, nan, nan, ..., nan, nan, nan],\n",
      "        [nan, nan, nan, ..., nan, nan, nan],\n",
      "        ...,\n",
      "        [nan, nan, nan, ..., nan, nan, nan],\n",
      "        [nan, nan, nan, ..., nan, nan, nan],\n",
      "        [nan, nan, nan, ..., nan, nan, nan]]]), array([[[nan, nan, nan, ..., nan, nan, nan],\n",
      "        [nan, nan, nan, ..., nan, nan, nan],\n",
      "        [nan, nan, nan, ..., nan, nan, nan],\n",
      "        ...,\n",
      "        [nan, nan, nan, ..., nan, nan, nan],\n",
      "        [nan, nan, nan, ..., nan, nan, nan],\n",
      "        [nan, nan, nan, ..., nan, nan, nan]]]), array([[[nan, nan, nan, ..., nan, nan, nan],\n",
      "        [nan, nan, nan, ..., nan, nan, nan],\n",
      "        [nan, nan, nan, ..., nan, nan, nan],\n",
      "        ...,\n",
      "        [nan, nan, nan, ..., nan, nan, nan],\n",
      "        [nan, nan, nan, ..., nan, nan, nan],\n",
      "        [nan, nan, nan, ..., nan, nan, nan]]]), array([[[nan, nan, nan, ..., nan, nan, nan],\n",
      "        [nan, nan, nan, ..., nan, nan, nan],\n",
      "        [nan, nan, nan, ..., nan, nan, nan],\n",
      "        ...,\n",
      "        [nan, nan, nan, ..., nan, nan, nan],\n",
      "        [nan, nan, nan, ..., nan, nan, nan],\n",
      "        [nan, nan, nan, ..., nan, nan, nan]]])]\n"
     ]
    }
   ],
   "source": [
    "#print (clipps)\n",
    "\n",
    "len(rasters)\n",
    "\n",
    "print (clipps[0].shape)\n",
    "\n",
    "print (clipps)"
   ]
  },
  {
   "cell_type": "markdown",
   "metadata": {},
   "source": [
    "### Creating the input Tensors"
   ]
  },
  {
   "cell_type": "code",
   "execution_count": 282,
   "metadata": {},
   "outputs": [
    {
     "data": {
      "text/plain": [
       "torch.Size([23, 1, 82, 114])"
      ]
     },
     "execution_count": 282,
     "metadata": {},
     "output_type": "execute_result"
    }
   ],
   "source": [
    "\n",
    "\n",
    "tensors = [torch.from_numpy(array) for array in clipps]\n",
    "\n",
    "tensors = torch.stack(tensors)\n",
    "\n",
    "tensors.shape\n"
   ]
  },
  {
   "cell_type": "code",
   "execution_count": 245,
   "metadata": {},
   "outputs": [
    {
     "name": "stdout",
     "output_type": "stream",
     "text": [
      "GPU is available\n"
     ]
    }
   ],
   "source": [
    "import torch\n",
    "import torch.nn as nn\n",
    "import torchvision\n",
    "import torchvision.transforms as transforms\n",
    "\n",
    "import pytorch_lightning as pl\n",
    "import torch.nn.functional as F\n",
    "from pytorch_lightning import Trainer\n",
    "\n",
    "\n",
    "if torch.cuda.is_available():\n",
    "    device = torch.device(\"cuda\")\n",
    "    print(\"GPU is available\")\n"
   ]
  },
  {
   "cell_type": "code",
   "execution_count": 269,
   "metadata": {},
   "outputs": [
    {
     "data": {
      "text/plain": [
       "array([[  9.02],\n",
       "       [  7.79],\n",
       "       [  7.19],\n",
       "       [  6.84],\n",
       "       [  6.66],\n",
       "       [  6.48],\n",
       "       [  6.51],\n",
       "       [  6.49],\n",
       "       [  8.14],\n",
       "       [  8.41],\n",
       "       [ 12.9 ],\n",
       "       [ 14.7 ],\n",
       "       [ 14.3 ],\n",
       "       [ 19.  ],\n",
       "       [ 12.9 ],\n",
       "       [ 17.8 ],\n",
       "       [ 23.  ],\n",
       "       [ 57.9 ],\n",
       "       [ 73.9 ],\n",
       "       [108.  ],\n",
       "       [ 91.5 ],\n",
       "       [ 66.8 ],\n",
       "       [ 88.6 ]])"
      ]
     },
     "execution_count": 269,
     "metadata": {},
     "output_type": "execute_result"
    },
    {
     "data": {
      "image/png": "[encoded data removed]",
      "text/plain": [
       "<Figure size 432x288 with 1 Axes>"
      ]
     },
     "metadata": {},
     "output_type": "display_data"
    }
   ],
   "source": [
    "streamflow = pd.read_excel(\"D:\\MODIS_Snow\\Streamflow_data\\Stream_Isel.xlsx\", index_col =\"Date\")\n",
    "\n",
    "streamflow = streamflow.iloc[::8, :]\n",
    "\n",
    "streamflow = streamflow.reset_index().drop(\"Date\", axis=1)\n",
    "\n",
    "streamflow.plot()\n",
    "\n",
    "labels = streamflow.values\n",
    "\n",
    "labels"
   ]
  },
  {
   "cell_type": "code",
   "execution_count": null,
   "metadata": {},
   "outputs": [],
   "source": []
  },
  {
   "cell_type": "code",
   "execution_count": 291,
   "metadata": {},
   "outputs": [
    {
     "data": {
      "text/plain": [
       "tensor([[[nan, nan],\n",
       "         [nan, nan],\n",
       "         [nan, nan],\n",
       "         [nan, nan],\n",
       "         [nan, nan],\n",
       "         [nan, nan],\n",
       "         [nan, nan],\n",
       "         [nan, nan],\n",
       "         [nan, nan],\n",
       "         [nan, nan],\n",
       "         [nan, nan],\n",
       "         [nan, nan],\n",
       "         [nan, nan],\n",
       "         [nan, nan],\n",
       "         [nan, nan],\n",
       "         [nan, nan],\n",
       "         [nan, nan],\n",
       "         [nan, nan],\n",
       "         [nan, nan],\n",
       "         [nan, nan],\n",
       "         [nan, nan],\n",
       "         [nan, nan],\n",
       "         [nan, nan]]], grad_fn=<StackBackward>)"
      ]
     },
     "execution_count": 291,
     "metadata": {},
     "output_type": "execute_result"
    }
   ],
   "source": [
    "input_size = 82 * 114\n",
    "\n",
    "seq_length = 1\n",
    "\n",
    "hidden_size = 2\n",
    "\n",
    "num_layers = 1\n",
    "\n",
    "batch_size = 23\n",
    "\n",
    "# Initialize the RNN.\n",
    "rnn = nn.RNN(input_size=input_size, hidden_size=hidden_size, num_layers = 1, batch_first=True)\n",
    "# input size : (batch, seq_len, input_size)\n",
    "inputs = tensors.view(batch_size, seq_length, input_size)\n",
    "# out shape = (batch, seq_len, num_directions * hidden_size)\n",
    "# h_n shape  = (num_layers * num_directions, batch, hidden_size)\n",
    "out, h_n = rnn(inputs.float())\n",
    "\n"
   ]
  },
  {
   "cell_type": "code",
   "execution_count": null,
   "metadata": {},
   "outputs": [],
   "source": []
  },
  {
   "cell_type": "code",
   "execution_count": null,
   "metadata": {},
   "outputs": [],
   "source": []
  },
  {
   "cell_type": "code",
   "execution_count": null,
   "metadata": {},
   "outputs": [],
   "source": []
  },
  {
   "cell_type": "code",
   "execution_count": null,
   "metadata": {},
   "outputs": [],
   "source": []
  },
  {
   "cell_type": "code",
   "execution_count": null,
   "metadata": {},
   "outputs": [],
   "source": []
  },
  {
   "cell_type": "code",
   "execution_count": null,
   "metadata": {},
   "outputs": [],
   "source": []
  },
  {
   "cell_type": "code",
   "execution_count": null,
   "metadata": {},
   "outputs": [],
   "source": []
  },
  {
   "cell_type": "code",
   "execution_count": null,
   "metadata": {},
   "outputs": [],
   "source": []
  },
  {
   "cell_type": "code",
   "execution_count": null,
   "metadata": {},
   "outputs": [],
   "source": []
  }
 ],
 "metadata": {
  "kernelspec": {
   "display_name": "Python 3",
   "language": "python",
   "name": "python3"
  },
  "language_info": {
   "codemirror_mode": {
    "name": "ipython",
    "version": 3
   },
   "file_extension": ".py",
   "mimetype": "text/x-python",
   "name": "python",
   "nbconvert_exporter": "python",
   "pygments_lexer": "ipython3",
   "version": "3.7.8"
  }
 },
 "nbformat": 4,
 "nbformat_minor": 4
}
